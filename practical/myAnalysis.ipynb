{
 "cells": [
  {
   "cell_type": "markdown",
   "metadata": {},
   "source": [
    "# Isabelle Arseneau-Bruneau  \n",
    "## P-Hacking Analysis"
   ]
  },
  {
   "cell_type": "markdown",
   "metadata": {},
   "source": [
    "### Reminder of Jupyter Notebook Commands \n",
    "**enter** – (in command mode) enter edit mode\\\n",
    "**shift+enter** – (in edit mode) execute current cell\\\n",
    "**esc** – (in edit mode) enter command mode, so you can use arrow keys to move to other cells\\\n",
    "**b** – (in command mode) insert empty cell below\\\n",
    "**x** – (in command mode) cut current cell\\\n",
    "**v** – (in command mode) paste the cell you’ve cut\\\n",
    "**esc+m/y** – change current code cell to markdown cell / reverse\\\n",
    "For all commands see “Help” - “Keyboard shortcuts” in the toolbar."
   ]
  },
  {
   "cell_type": "markdown",
   "metadata": {},
   "source": [
    "## Requirements and Recreating the Virtual Environment \n",
    "For this analysis, we assume that you have a standard Python environment (numpy, scipy, matplotlib) installed on your computer. (If this is not the case, refer to python installation instruction found here https://school.brainhackmtl.org/setup/.)  \n",
    "\n",
    "We first need to recreate the virtual environment by importing the modules and librairy listed in the command below:"
   ]
  },
  {
   "cell_type": "code",
   "execution_count": 1,
   "metadata": {},
   "outputs": [
    {
     "ename": "ImportError",
     "evalue": "Unable to import required dependencies:\nnumpy: \n\nIMPORTANT: PLEASE READ THIS FOR ADVICE ON HOW TO SOLVE THIS ISSUE!\n\nImporting the numpy c-extensions failed.\n- Try uninstalling and reinstalling numpy.\n- If you have already done that, then:\n  1. Check that you expected to use Python3.7 from \"/Users/isabellearseneau-bruneau/miniconda3/bin/python\",\n     and that you have no directories in your PATH or PYTHONPATH that can\n     interfere with the Python and numpy version \"1.18.1\" you're trying to use.\n  2. If (1) looks fine, you can open a new issue at\n     https://github.com/numpy/numpy/issues.  Please include details on:\n     - how you installed Python\n     - how you installed numpy\n     - your operating system\n     - whether or not you have multiple versions of Python installed\n     - if you built from source, your compiler versions and ideally a build log\n\n- If you're working with a numpy git repository, try `git clean -xdf`\n  (removes all files not under version control) and rebuild numpy.\n\nNote: this error has many possible causes, so please don't comment on\nan existing issue about this - open a new one instead.\n\nOriginal error was: dlopen(/Users/isabellearseneau-bruneau/miniconda3/lib/python3.7/site-packages/numpy/core/_multiarray_umath.cpython-37m-darwin.so, 2): Library not loaded: @rpath/libopenblas.dylib\n  Referenced from: /Users/isabellearseneau-bruneau/miniconda3/lib/python3.7/site-packages/numpy/core/_multiarray_umath.cpython-37m-darwin.so\n  Reason: image not found\n",
     "output_type": "error",
     "traceback": [
      "\u001b[0;31m---------------------------------------------------------------------------\u001b[0m",
      "\u001b[0;31mImportError\u001b[0m                               Traceback (most recent call last)",
      "\u001b[0;32m<ipython-input-1-f3bff640350f>\u001b[0m in \u001b[0;36m<module>\u001b[0;34m\u001b[0m\n\u001b[0;32m----> 1\u001b[0;31m \u001b[0;32mimport\u001b[0m \u001b[0mpandas\u001b[0m \u001b[0;32mas\u001b[0m \u001b[0mpd\u001b[0m \u001b[0;31m#this means that pandas is called as \"pd\" to make shorter\u001b[0m\u001b[0;34m\u001b[0m\u001b[0;34m\u001b[0m\u001b[0m\n\u001b[0m\u001b[1;32m      2\u001b[0m \u001b[0;32mimport\u001b[0m \u001b[0mos\u001b[0m\u001b[0;34m\u001b[0m\u001b[0;34m\u001b[0m\u001b[0m\n\u001b[1;32m      3\u001b[0m \u001b[0;32mimport\u001b[0m \u001b[0mrandom\u001b[0m \u001b[0;32mas\u001b[0m \u001b[0mrd\u001b[0m\u001b[0;34m\u001b[0m\u001b[0;34m\u001b[0m\u001b[0m\n\u001b[1;32m      4\u001b[0m \u001b[0;32mimport\u001b[0m \u001b[0mnumpy\u001b[0m \u001b[0;32mas\u001b[0m \u001b[0mnp\u001b[0m \u001b[0;31m#numpy is called as \"np\" to make shorter\u001b[0m\u001b[0;34m\u001b[0m\u001b[0;34m\u001b[0m\u001b[0m\n\u001b[1;32m      5\u001b[0m \u001b[0;32mimport\u001b[0m \u001b[0mmatplotlib\u001b[0m\u001b[0;34m.\u001b[0m\u001b[0mpyplot\u001b[0m \u001b[0;32mas\u001b[0m \u001b[0mplt\u001b[0m \u001b[0;31m#pyplot is called as \"plt\" to make shorter\u001b[0m\u001b[0;34m\u001b[0m\u001b[0;34m\u001b[0m\u001b[0m\n",
      "\u001b[0;32m~/miniconda3/lib/python3.7/site-packages/pandas/__init__.py\u001b[0m in \u001b[0;36m<module>\u001b[0;34m\u001b[0m\n\u001b[1;32m     15\u001b[0m \u001b[0;32mif\u001b[0m \u001b[0mmissing_dependencies\u001b[0m\u001b[0;34m:\u001b[0m\u001b[0;34m\u001b[0m\u001b[0;34m\u001b[0m\u001b[0m\n\u001b[1;32m     16\u001b[0m     raise ImportError(\n\u001b[0;32m---> 17\u001b[0;31m         \u001b[0;34m\"Unable to import required dependencies:\\n\"\u001b[0m \u001b[0;34m+\u001b[0m \u001b[0;34m\"\\n\"\u001b[0m\u001b[0;34m.\u001b[0m\u001b[0mjoin\u001b[0m\u001b[0;34m(\u001b[0m\u001b[0mmissing_dependencies\u001b[0m\u001b[0;34m)\u001b[0m\u001b[0;34m\u001b[0m\u001b[0;34m\u001b[0m\u001b[0m\n\u001b[0m\u001b[1;32m     18\u001b[0m     )\n\u001b[1;32m     19\u001b[0m \u001b[0;32mdel\u001b[0m \u001b[0mhard_dependencies\u001b[0m\u001b[0;34m,\u001b[0m \u001b[0mdependency\u001b[0m\u001b[0;34m,\u001b[0m \u001b[0mmissing_dependencies\u001b[0m\u001b[0;34m\u001b[0m\u001b[0;34m\u001b[0m\u001b[0m\n",
      "\u001b[0;31mImportError\u001b[0m: Unable to import required dependencies:\nnumpy: \n\nIMPORTANT: PLEASE READ THIS FOR ADVICE ON HOW TO SOLVE THIS ISSUE!\n\nImporting the numpy c-extensions failed.\n- Try uninstalling and reinstalling numpy.\n- If you have already done that, then:\n  1. Check that you expected to use Python3.7 from \"/Users/isabellearseneau-bruneau/miniconda3/bin/python\",\n     and that you have no directories in your PATH or PYTHONPATH that can\n     interfere with the Python and numpy version \"1.18.1\" you're trying to use.\n  2. If (1) looks fine, you can open a new issue at\n     https://github.com/numpy/numpy/issues.  Please include details on:\n     - how you installed Python\n     - how you installed numpy\n     - your operating system\n     - whether or not you have multiple versions of Python installed\n     - if you built from source, your compiler versions and ideally a build log\n\n- If you're working with a numpy git repository, try `git clean -xdf`\n  (removes all files not under version control) and rebuild numpy.\n\nNote: this error has many possible causes, so please don't comment on\nan existing issue about this - open a new one instead.\n\nOriginal error was: dlopen(/Users/isabellearseneau-bruneau/miniconda3/lib/python3.7/site-packages/numpy/core/_multiarray_umath.cpython-37m-darwin.so, 2): Library not loaded: @rpath/libopenblas.dylib\n  Referenced from: /Users/isabellearseneau-bruneau/miniconda3/lib/python3.7/site-packages/numpy/core/_multiarray_umath.cpython-37m-darwin.so\n  Reason: image not found\n"
     ]
    }
   ],
   "source": [
    "import pandas as pd #this means that pandas is called as \"pd\" to make shorter\n",
    "import os\n",
    "import random as rd\n",
    "import numpy as np #numpy is called as \"np\" to make shorter\n",
    "import matplotlib.pyplot as plt #pyplot is called as \"plt\" to make shorter\n",
    "from scipy import stats #as sst sometimes (statsmodels)* \n",
    "#from statsmodels.formula.api import ols\n",
    "#import Seaborn #to verify*"
   ]
  },
  {
   "cell_type": "markdown",
   "metadata": {},
   "source": [
    "## ACKNOWLEDGEMENT: \n",
    "This notebook is based on J.-B. Poline's Jupyter Notebook \"Intro-to-stat\" presented during the Brainhack School 2020, Introduction to Statistics Lecture, Montreal, May 14th 2020"
   ]
  },
  {
   "cell_type": "markdown",
   "metadata": {},
   "source": [
    "## Statistical Analysis Procedures\n",
    "\n",
    "As a research question, we are interested to see if the number of conflicts experienced by participants during a segment of the COVID confinement (y-variable 'partY') may have been influenced by ext the participant's Gender, Verbal IQ, MRI_Count, or alchool intake during the same period (y-variable 'partY2'). \n",
    "\n",
    "__'partY'__ is measured as the number of conflicts reported during the 6th week of the COVID confinement\\\n",
    "__'partY2'__ is measured as the number of standard alchool intake (as defined by Educalcool, for details see reference below) reported by participants for the period covering the 6th week of the COVID confinement\n",
    "\n",
    "Éduc’alcool (Association). (2007). Alcool et santé: Les niveaux de consommation d’alcool à faible risque, 2-3-4-5-0. Éduc’Alcool.\n",
    "\n",
    "Statistical analysis where conducted on \"My-super-Macbook-Pro-that-fits-in-an-envoloppe\" with the software packages described above in the \"Requirements\" section.\n",
    "\n"
   ]
  },
  {
   "cell_type": "code",
   "execution_count": null,
   "metadata": {},
   "outputs": [],
   "source": [
    "#First, load the file containing the brain images: brainsize.csv\n",
    "\n",
    "csvfile = ('/Users/isabellearseneau-bruneau/Desktop/Arseneau-Bruneau-I-QLSC612/course-2020-assessments/practical/brainsize.csv')\n",
    "\n",
    "data = pd.read_csv(csvfile,sep=';', index_col=0) \n",
    "#Create pandas dataframe for the brainsize csv file and named this data \"data\"\n",
    "#(sep indicate the separation in the dataframe, index_col=0 \n",
    "#indicates what header's index column to refer when manipulating the data)\n",
    "#(If you remove \"index_col=0\" you will have another column preceeding the first\n",
    "#column that will identify the first rows as 0, 1, 2, 3, etc.) \n",
    "\n",
    "data.head() #Prints the headers of the file called \"data\""
   ]
  },
  {
   "cell_type": "markdown",
   "metadata": {},
   "source": [
    "Notice that there is a dot ('.') in weight of the second subject, indicating incomplete data. \\\n",
    "This will cause problems, so we will need to replace \".\" values with NaN to further conduct the analysis"
   ]
  },
  {
   "cell_type": "code",
   "execution_count": null,
   "metadata": {},
   "outputs": [],
   "source": [
    "#We will use the command\n",
    "#data = pandas.read_csv(csvfile, sep=';', na_values=\".\") with pandas as pd\n",
    "\n",
    "data = pd.read_csv(csvfile, sep=';', na_values=\".\")\n",
    "data.head(3) #this new dataframe uses na and drop \".\" \n",
    "# you can also drop subjects having NaN data with the command $data.dropna().head(3)\n",
    "# But this may reduce your dataset considerably (there are other alternative to that)\n",
    "\n",
    "#(Notice the added column at the beginning as we did not specify the index column)"
   ]
  },
  {
   "cell_type": "markdown",
   "metadata": {},
   "source": [
    "Let's examine the file \"data\" (e.g., shape, number of columns, rows, etc.)"
   ]
  },
  {
   "cell_type": "code",
   "execution_count": null,
   "metadata": {},
   "outputs": [],
   "source": [
    "print('data.shape: ', data.shape) #Will indicate (number of rows, number of columns)\n",
    "print('data.columns: ', data.columns)  #Will indicate what each column header is \n",
    "\n",
    "data.describe()\n",
    "#This will provide an output that summarize each variable  "
   ]
  },
  {
   "cell_type": "markdown",
   "metadata": {},
   "source": [
    "## Adding New Variables of Random Numbers (Noise) to our Dataframe\n",
    "Now, we will add two colums to the file brainsize.csv (the dataframe we called data).\\\n",
    "\n",
    "We first need to insert a new variable (of random noise) called \"partY\" that represents the number of conflicts a subject had during the 6th week of COVID-19 confinement. (Our AMAZING innovative methods have demonstrated that \\\n",
    "our random noise generator provides the most reliable data, see Assagn Ment Needs, et al. 2020) \n",
    "\n",
    "__Careful here__, you will need to use a __random seed__ in order to \"fix\" the random values obtained from the random number generator so that you don't have a different set of numbers every time your run your command. This will be done by calling the number of a specific random seed when using the number generator.  \n",
    "\n",
    "If you are generating random noise (random values) for more than one variable, __different random seed__ will be needed in order to have different values (e.g. for your \"partY and \"partY2\" arrays). \n",
    "\n",
    "For more information, see https://pynative.com/python-random-seed/"
   ]
  },
  {
   "cell_type": "code",
   "execution_count": null,
   "metadata": {},
   "outputs": [],
   "source": [
    "#We will use the following structure to add our columns arays  \n",
    "#partY_values = []\n",
    "#for i in range(num_rows): \n",
    "#    i = rd.randint(0,32) #here range (min, max)\n",
    "#    partY_values.append(i)\n",
    "\n",
    "import random as rd #This import a random number generator module\n",
    "rd.seed(2) #This will fix the random seed (of the random number generator)\n",
    "\n",
    "partY_values = [] #This is creating a new array called \"partY\" \n",
    "for i in range(40): #This is creating a loop for the 40 rows of the new array\n",
    "    i = rd.randint(0,32) # a random number is assigned for each row (i)\n",
    "    partY_values.append(i)#partY_values is now full with random values between 0 and 32\n",
    "\n",
    "#Now, we need to create new column in data (our dataframe) and assign partY-values to it\n",
    "data['partY'] = partY_values\n",
    "#print(partY_values.append(i)) can allow you to verify\n",
    "\n",
    "data.head() #More visually appealing command, (40) give full frame instead of 6 rows"
   ]
  },
  {
   "cell_type": "markdown",
   "metadata": {},
   "source": [
    "Now, we will add the other new variable, \"partY2\" that represents represents the number of \n",
    "alcohol intake during the 6th week of COVID-19 confinement for the same subjects"
   ]
  },
  {
   "cell_type": "code",
   "execution_count": null,
   "metadata": {},
   "outputs": [],
   "source": [
    "#Using the same structure as above: \n",
    "\n",
    "rd.seed(26) #This a different random seed which \"fix\" the random values generated\n",
    "\n",
    "partY2_values = [] #Creates new array called \"partY2\" \n",
    "for i in range(40): #Createsa loop for the 40 rows of array \"partY2\"\n",
    "    i = rd.randint(0,32) #random number assigned for each row (i)\n",
    "    partY2_values.append(i)#partY2_values now filed with random values between 0 and 32\n",
    "\n",
    "#To create this new column in data (our dataframe) and assign partY2-values to it\n",
    "data['partY2'] = partY2_values\n",
    "#print(partY2_values.append(i)) can allow you to verify\n",
    "\n",
    "data.head() #Verify the resulting dataframe"
   ]
  },
  {
   "cell_type": "markdown",
   "metadata": {},
   "source": [
    "### Verifying Data Types"
   ]
  },
  {
   "cell_type": "code",
   "execution_count": null,
   "metadata": {},
   "outputs": [],
   "source": [
    "#Now that we have our full dataframe, let's check each data types\n",
    "data.dtypes"
   ]
  },
  {
   "cell_type": "markdown",
   "metadata": {},
   "source": [
    "we are confirming that each variable seem to fit with the right data type "
   ]
  },
  {
   "cell_type": "markdown",
   "metadata": {},
   "source": [
    "### Data Screening\n",
    "Because we aim to be \"the worlds'greatest researchers\", we will only consider subjects that \\\n",
    "have complete data and drop the missing data. \n",
    "\n",
    "_(It is too bad here that the researchers in question did not watch the Intro-to-stats lecture \\\n",
    "of the BHS2020. They would have known that this operation reduce their sample size, which affect \n",
    "their Degree of freedom and results.)_"
   ]
  },
  {
   "cell_type": "code",
   "execution_count": null,
   "metadata": {},
   "outputs": [],
   "source": [
    "data.dropna() #This will remove the subjects with incomplete data \n",
    "data.head(40) # To inspect differences"
   ]
  },
  {
   "cell_type": "code",
   "execution_count": null,
   "metadata": {},
   "outputs": [],
   "source": [
    "print('data.shape: ', data.shape) #Will indicate (number of rows, number of columns)\n",
    "print('data.columns: ', data.columns)  #Will indicate what each column header is \n",
    "print('\\nFemale partY mean: ', data[data['Gender'] == 'Female']['partY'].mean())\n",
    "print('\\nMale partY mean: ', data[data['Gender'] == 'Male']['partY'].mean())\n",
    "\n",
    "#Example of command to get the mean of a group associated with a category variable\n",
    "#e.g. here the mean of the partY, selecting only the female subjects, and then only the male subjects\n",
    "\n",
    "data.describe()\n",
    "#This will provide an output that summarize each variable  "
   ]
  },
  {
   "cell_type": "code",
   "execution_count": null,
   "metadata": {},
   "outputs": [],
   "source": [
    "#For our research question, group by gender (check lecture 23:43)\n",
    "groupby_gender = data.groupby('Gender')\n",
    "for gender, value in groupby_gender['VIQ']:\n",
    "    print((gender, value.mean()))"
   ]
  },
  {
   "cell_type": "code",
   "execution_count": null,
   "metadata": {},
   "outputs": [],
   "source": [
    " groupby_gender = data.groupby('Gender')\n",
    "for gender, value in groupby_gender['partY']:\n",
    "    print((gender, value.mean()))"
   ]
  },
  {
   "cell_type": "code",
   "execution_count": null,
   "metadata": {},
   "outputs": [],
   "source": [
    "groupby_gender = data.groupby('Gender')\n",
    "for gender, value in groupby_gender['partY2']:\n",
    "    print((gender, value.mean()))"
   ]
  },
  {
   "cell_type": "code",
   "execution_count": null,
   "metadata": {},
   "outputs": [],
   "source": [
    "groupby_gender.mean()"
   ]
  },
  {
   "cell_type": "code",
   "execution_count": null,
   "metadata": {},
   "outputs": [],
   "source": [
    "from pandas import plotting as pdplt\n",
    "pdplt.scatter_matrix(data[['partY', 'partY2', 'MRI_Count']]);"
   ]
  },
  {
   "cell_type": "code",
   "execution_count": null,
   "metadata": {},
   "outputs": [],
   "source": [
    "from pandas import plotting as pdplt\n",
    "pdplt.scatter_matrix(data[['partY', 'partY2']]);"
   ]
  },
  {
   "cell_type": "code",
   "execution_count": null,
   "metadata": {},
   "outputs": [],
   "source": [
    "from scipy import stats\n",
    "\n",
    "female_viq = data[data['Gender'] == 'Female']['VIQ']\n",
    "male_viq = data[data['Gender'] == 'Male']['VIQ']\n",
    "stats.ttest_ind(female_viq, male_viq)"
   ]
  },
  {
   "cell_type": "code",
   "execution_count": null,
   "metadata": {},
   "outputs": [],
   "source": [
    "female_MRI_Count = data[data['Gender'] == 'Female']['MRI_Count']\n",
    "male_MRI_Count = data[data['Gender'] == 'Male']['MRI_Count']\n",
    "stats.ttest_ind(female_MRI_Count, male_MRI_Count)"
   ]
  },
  {
   "cell_type": "code",
   "execution_count": null,
   "metadata": {},
   "outputs": [],
   "source": [
    "female_partY = data[data['Gender'] == 'Female']['partY']\n",
    "male_partY = data[data['Gender'] == 'Male']['partY']\n",
    "stats.ttest_ind(female_partY, male_partY)"
   ]
  },
  {
   "cell_type": "code",
   "execution_count": null,
   "metadata": {},
   "outputs": [],
   "source": [
    "female_partY2 = data[data['Gender'] == 'Female']['partY2']\n",
    "male_partY2 = data[data['Gender'] == 'Male']['partY2']\n",
    "stats.ttest_ind(female_partY2, male_partY2)"
   ]
  },
  {
   "cell_type": "code",
   "execution_count": null,
   "metadata": {},
   "outputs": [],
   "source": [
    "# Box plots of different columns for each gender\n",
    "groupby_gender.boxplot(column=['FSIQ', 'VIQ', 'PIQ'])\n",
    "groupby_gender.groups\n"
   ]
  },
  {
   "cell_type": "code",
   "execution_count": null,
   "metadata": {},
   "outputs": [],
   "source": [
    "# Box plots of different columns for each gender\n",
    "groupby_gender.boxplot(column=['partY', 'partY2'])\n",
    "groupby_gender.groups\n"
   ]
  },
  {
   "cell_type": "code",
   "execution_count": null,
   "metadata": {},
   "outputs": [],
   "source": []
  },
  {
   "cell_type": "code",
   "execution_count": null,
   "metadata": {},
   "outputs": [],
   "source": [
    "from statsmodels.formula.api import ols\n",
    "\n",
    "model = ols('VIQ ~ Gender + MRI_Count + Height', data).fit()\n",
    "print(model.summary())\n",
    "\n",
    "# Here, we don't need to define a contrast, as we are testing a single\n",
    "# coefficient of our model, and not a combination of coefficients.\n",
    "# However, defining a contrast, which would then be a 'unit contrast',\n",
    "# will give us the same results\n",
    "print(model.f_test([0, 1, 0, 0]))"
   ]
  },
  {
   "cell_type": "code",
   "execution_count": null,
   "metadata": {},
   "outputs": [],
   "source": [
    "from statsmodels.formula.api import ols\n",
    "\n",
    "model = ols('partY ~ Gender + MRI_Count + VIQ', data).fit()\n",
    "print(model.summary())\n",
    "\n",
    "# Here, we don't need to define a contrast, as we are testing a single\n",
    "# coefficient of our model, and not a combination of coefficients.\n",
    "# However, defining a contrast, which would then be a 'unit contrast',\n",
    "# will give us the same results\n",
    "print(model.f_test([0, 1, 0, 0]))"
   ]
  },
  {
   "cell_type": "code",
   "execution_count": null,
   "metadata": {},
   "outputs": [],
   "source": []
  },
  {
   "cell_type": "code",
   "execution_count": null,
   "metadata": {},
   "outputs": [],
   "source": []
  },
  {
   "cell_type": "code",
   "execution_count": null,
   "metadata": {},
   "outputs": [],
   "source": [
    "#DataFrame.corr(self, method='pearson', min_periods=1) "
   ]
  }
 ],
 "metadata": {
  "kernelspec": {
   "display_name": "Python 3",
   "language": "python",
   "name": "python3"
  },
  "language_info": {
   "codemirror_mode": {
    "name": "ipython",
    "version": 3
   },
   "file_extension": ".py",
   "mimetype": "text/x-python",
   "name": "python",
   "nbconvert_exporter": "python",
   "pygments_lexer": "ipython3",
   "version": "3.7.6"
  }
 },
 "nbformat": 4,
 "nbformat_minor": 4
}
